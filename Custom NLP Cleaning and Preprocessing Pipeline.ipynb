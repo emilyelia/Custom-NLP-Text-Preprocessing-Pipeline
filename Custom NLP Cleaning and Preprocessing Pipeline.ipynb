{
 "cells": [
  {
   "cell_type": "code",
   "execution_count": null,
   "metadata": {},
   "outputs": [],
   "source": [
    "import string\n",
    "from nltk.tokenize import word_tokenize, sent_tokenize\n",
    "from nltk.corpus import stopwords\n",
    "from nltk.stem.porter import PorterStemmer\n",
    "import pandas as pd\n",
    "from collections import Counter\n",
    "import numpy as np\n",
    "import re\n",
    "from normalise import tokenize_basic\n",
    "from pathlib import Path"
   ]
  },
  {
   "cell_type": "code",
   "execution_count": null,
   "metadata": {},
   "outputs": [],
   "source": [
    "data_folder = Path(\"/Users/emilyelia/Downloads/reuters/reuters/reuters/training\")\n",
    "file_to_open = data_folder / \"104\"\n",
    "f = open(file_to_open)\n",
    "\n",
    "print(f.read())\n",
    "num_lines =0\n",
    "num_words =0\n",
    "num_chars =0\n",
    "with open(file_to_open, 'r') as f:\n",
    "    for line in f:\n",
    "        words = line.split()\n",
    "\n",
    "        num_lines += 1\n",
    "        num_words += len(words)\n",
    "        num_chars += len(line)\n",
    "\n",
    "print (\"numbers of words\", num_words)\n",
    "print(\"number of lines\", num_lines)\n",
    "print(\"number of chars\", num_chars)\n",
    "\n",
    "\n"
   ]
  },
  {
   "cell_type": "code",
   "execution_count": null,
   "metadata": {
    "scrolled": true
   },
   "outputs": [],
   "source": [
    "from nltk.tokenize import sent_tokenize, word_tokenize\n",
    "f = open(file_to_open)\n",
    "#use built in tokenize to seperate each indiviual word\n",
    "nltk_words = word_tokenize(f.read())\n",
    "print(f\"Tokenized words: {nltk_words}\")"
   ]
  },
  {
   "cell_type": "code",
   "execution_count": null,
   "metadata": {},
   "outputs": [],
   "source": [
    "print(nltk_words)\n",
    "punctuation = list(string.punctuation)\n",
    "stopWords = set(stopwords.words('english'))\n",
    "filter = []\n",
    "for w in nltk_words:\n",
    "    if w.lower()not in stopWords and w not in punctuation:\n",
    "        filter.append(w)\n"
   ]
  },
  {
   "cell_type": "code",
   "execution_count": null,
   "metadata": {},
   "outputs": [],
   "source": [
    "print(filter)"
   ]
  },
  {
   "cell_type": "code",
   "execution_count": null,
   "metadata": {},
   "outputs": [],
   "source": [
    "import nltk\n",
    "for dependency in (\"brown\", \"names\", \"wordnet\", \"averaged_perceptron_tagger\", \"universal_tagset\"):\n",
    "    nltk.download(dependency)\n",
    "    "
   ]
  },
  {
   "cell_type": "code",
   "execution_count": null,
   "metadata": {},
   "outputs": [],
   "source": [
    "from normalise import normalise\n",
    "abbr = {\n",
    "    \"lb\": \"pounds\",\n",
    "    \"USDA\": \"United States Department of Agriculture\",\n",
    "    \"cts\": \"cents\",\n",
    "    \"U.S.\": \"United States\"\n",
    "}\n",
    "normalise(text, user_abbrevs=abbr)\n",
    "nt =normalise(filter, user_abbrevs=abbr)\n",
    "display( ' '.join(nt))"
   ]
  },
  {
   "cell_type": "code",
   "execution_count": null,
   "metadata": {},
   "outputs": [],
   "source": []
  }
 ],
 "metadata": {
  "kernelspec": {
   "display_name": "Python 3",
   "language": "python",
   "name": "python3"
  },
  "language_info": {
   "codemirror_mode": {
    "name": "ipython",
    "version": 3
   },
   "file_extension": ".py",
   "mimetype": "text/x-python",
   "name": "python",
   "nbconvert_exporter": "python",
   "pygments_lexer": "ipython3",
   "version": "3.6.8"
  }
 },
 "nbformat": 4,
 "nbformat_minor": 2
}
